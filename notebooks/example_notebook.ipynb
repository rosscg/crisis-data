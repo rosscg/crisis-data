{
 "cells": [
  {
   "cell_type": "code",
   "execution_count": null,
   "metadata": {
    "ExecuteTime": {
     "end_time": "2019-07-08T17:59:48.272021Z",
     "start_time": "2019-07-08T17:59:47.015660Z"
    }
   },
   "outputs": [],
   "source": [
    "# List available themes and set:\n",
    "#!jt -l\n",
    "\n",
    "# Set theme:\n",
    "!jt -t chesterish -T\n",
    "\n",
    "#reset to default theme:\n",
    "#!jt -r"
   ]
  },
  {
   "cell_type": "code",
   "execution_count": null,
   "metadata": {},
   "outputs": [],
   "source": [
    "# Enable extensions:\n",
    "!jupyter contrib nbextension install --user\n",
    "\n",
    "# Select Jupyter extensions through the NBExtensions tab. \n",
    "# Suggestions: Table of Contents, Variable Inspector, ExecuteTime, Autopep8.\n",
    "\n",
    "# If using the AutoPEP8 Extension, will need to install autopep8:\n",
    "#!pip install autopep8"
   ]
  },
  {
   "cell_type": "code",
   "execution_count": null,
   "metadata": {
    "ExecuteTime": {
     "end_time": "2019-07-08T17:59:56.090266Z",
     "start_time": "2019-07-08T17:59:56.005823Z"
    }
   },
   "outputs": [],
   "source": [
    "# Example database query:\n",
    "\n",
    "from streamcollect.models import Tweet\n",
    "Tweet.objects.all()[0]"
   ]
  }
 ],
 "metadata": {
  "kernelspec": {
   "display_name": "Django Shell-Plus",
   "language": "python",
   "name": "django_extensions"
  },
  "language_info": {
   "codemirror_mode": {
    "name": "ipython",
    "version": 3
   },
   "file_extension": ".py",
   "mimetype": "text/x-python",
   "name": "python",
   "nbconvert_exporter": "python",
   "pygments_lexer": "ipython3",
   "version": "3.6.2"
  },
  "toc": {
   "base_numbering": 1,
   "nav_menu": {},
   "number_sections": true,
   "sideBar": true,
   "skip_h1_title": false,
   "title_cell": "Table of Contents",
   "title_sidebar": "Contents",
   "toc_cell": false,
   "toc_position": {},
   "toc_section_display": true,
   "toc_window_display": false
  },
  "varInspector": {
   "cols": {
    "lenName": 16,
    "lenType": 16,
    "lenVar": 40
   },
   "kernels_config": {
    "python": {
     "delete_cmd_postfix": "",
     "delete_cmd_prefix": "del ",
     "library": "var_list.py",
     "varRefreshCmd": "print(var_dic_list())"
    },
    "r": {
     "delete_cmd_postfix": ") ",
     "delete_cmd_prefix": "rm(",
     "library": "var_list.r",
     "varRefreshCmd": "cat(var_dic_list()) "
    }
   },
   "types_to_exclude": [
    "module",
    "function",
    "builtin_function_or_method",
    "instance",
    "_Feature"
   ],
   "window_display": false
  }
 },
 "nbformat": 4,
 "nbformat_minor": 2
}
