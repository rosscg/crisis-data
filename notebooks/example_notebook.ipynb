{
 "cells": [
  {
   "cell_type": "code",
   "execution_count": 1,
   "metadata": {},
   "outputs": [],
   "source": [
    "from streamcollect.models import Tweet"
   ]
  },
  {
   "cell_type": "code",
   "execution_count": 4,
   "metadata": {},
   "outputs": [
    {
     "name": "stdout",
     "output_type": "stream",
     "text": [
      "Deep in debt, the Kushners hunted for cash across the globe https://t.co/zRajSP8OgD via @bbgvisualdata @davidkski @CalebMelby @jaredkushner\n",
      "Her Majesty @realDonaldTrump #elite #queentrump #princesstrump #donaldtrump #thequeen #queen #royal #trump #dumptrump #notmypresident #maga https://t.co/VfLDlhpGjt\n",
      "Mueller Eliminates Trump’s Trump Card https://t.co/CdpKmPd21L via @intelligencer @jonathanchait #TrumpRussia #MuellerIsComing #MuellerTime\n",
      "Feds: Sen. Menendez Took Bribes Shortly After He Took Office https://t.co/NfTdX8XPVR via @thedailybeast @SenatorMenendez #CrookedMenendez\n",
      "Fashion forward @FLOTUS @realDonaldTrump #HurricaneHarvey #TexasFlood #Houston #DumpTrump #NotMyPresident #Trump @POTUS #HarveyRelief #MAGA https://t.co/mQ5VNB96NR\n"
     ]
    }
   ],
   "source": [
    "for t in Tweet.objects.all()[:5]:\n",
    "    print(t.text)"
   ]
  },
  {
   "cell_type": "code",
   "execution_count": null,
   "metadata": {},
   "outputs": [],
   "source": []
  }
 ],
 "metadata": {
  "kernelspec": {
   "display_name": "Django Shell-Plus",
   "language": "python",
   "name": "django_extensions"
  },
  "language_info": {
   "codemirror_mode": {
    "name": "ipython",
    "version": 3
   },
   "file_extension": ".py",
   "mimetype": "text/x-python",
   "name": "python",
   "nbconvert_exporter": "python",
   "pygments_lexer": "ipython3",
   "version": "3.6.2"
  }
 },
 "nbformat": 4,
 "nbformat_minor": 2
}
